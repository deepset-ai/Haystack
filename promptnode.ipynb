{
 "cells": [
  {
   "cell_type": "code",
   "execution_count": 1,
   "metadata": {},
   "outputs": [
    {
     "name": "stderr",
     "output_type": "stream",
     "text": [
      "/home/tstad/miniconda3/envs/haystack-dev-py38/lib/python3.8/site-packages/espnet2/gan_tts/vits/vits.py:43: DeprecationWarning: distutils Version classes are deprecated. Use packaging.version instead.\n",
      "  if LooseVersion(torch.__version__) >= LooseVersion(\"1.6.0\"):\n"
     ]
    }
   ],
   "source": [
    "from haystack.nodes import PromptNode, Shaper, PromptModel\n",
    "from haystack import Pipeline, Document, Answer"
   ]
  },
  {
   "cell_type": "code",
   "execution_count": 2,
   "metadata": {},
   "outputs": [
    {
     "name": "stderr",
     "output_type": "stream",
     "text": [
      "/home/tstad/miniconda3/envs/haystack-dev-py38/lib/python3.8/site-packages/torch/cuda/__init__.py:88: UserWarning: CUDA initialization: CUDA unknown error - this may be due to an incorrectly set up environment, e.g. changing env variable CUDA_VISIBLE_DEVICES after program start. Setting the available devices to be zero. (Triggered internally at /opt/conda/conda-bld/pytorch_1670525541702/work/c10/cuda/CUDAFunctions.cpp:109.)\n",
      "  return torch._C._cuda_getDeviceCount() > 0\n"
     ]
    },
    {
     "data": {
      "text/plain": [
       "{'results': ['berlin']}"
      ]
     },
     "execution_count": 2,
     "metadata": {},
     "output_type": "execute_result"
    }
   ],
   "source": [
    "from haystack.nodes.prompt import PromptNode\n",
    "\n",
    "pn = PromptNode()\n",
    "\n",
    "pn(\"What is the capital of Germany?\", num_return_sequences=3, num_beams=3)"
   ]
  },
  {
   "cell_type": "code",
   "execution_count": 2,
   "metadata": {},
   "outputs": [],
   "source": [
    "p = Pipeline()\n",
    "pm = PromptModel(model_kwargs={\"model_kwargs\": {\"num_return_sequences\": 3, \"num_beams\": 3}})\n",
    "p.add_node(\n",
    "    component=PromptNode(model_name_or_path=pm, default_prompt_template=\"question-answering\"),\n",
    "    name=\"PromptNode\",\n",
    "    inputs=[\"Query\"],\n",
    ")"
   ]
  },
  {
   "cell_type": "code",
   "execution_count": 3,
   "metadata": {},
   "outputs": [
    {
     "data": {
      "text/plain": [
       "{'results': [<Answer {'answer': 'Berlin', 'type': 'generative', 'score': None, 'context': None, 'offsets_in_document': None, 'offsets_in_context': None, 'document_ids': ['1a7644ef76698b7a1c6ed23c357fa598'], 'meta': {}}>,\n",
       "  <Answer {'answer': 'Berlin is the capital of Germany.', 'type': 'generative', 'score': None, 'context': None, 'offsets_in_document': None, 'offsets_in_context': None, 'document_ids': ['1a7644ef76698b7a1c6ed23c357fa598'], 'meta': {}}>,\n",
       "  <Answer {'answer': 'Berlin is the capital city of Germany.', 'type': 'generative', 'score': None, 'context': None, 'offsets_in_document': None, 'offsets_in_context': None, 'document_ids': ['1a7644ef76698b7a1c6ed23c357fa598'], 'meta': {}}>],\n",
       " 'invocation_context': {'query': 'What is the capital of Germany?',\n",
       "  'documents': [<Document: {'content': 'Berlin is the capital of Germany.', 'content_type': 'text', 'score': None, 'meta': {}, 'id_hash_keys': ['content'], 'embedding': None, 'id': '1a7644ef76698b7a1c6ed23c357fa598'}>],\n",
       "  'results': [<Answer {'answer': 'Berlin', 'type': 'generative', 'score': None, 'context': None, 'offsets_in_document': None, 'offsets_in_context': None, 'document_ids': ['1a7644ef76698b7a1c6ed23c357fa598'], 'meta': {}}>,\n",
       "   <Answer {'answer': 'Berlin is the capital of Germany.', 'type': 'generative', 'score': None, 'context': None, 'offsets_in_document': None, 'offsets_in_context': None, 'document_ids': ['1a7644ef76698b7a1c6ed23c357fa598'], 'meta': {}}>,\n",
       "   <Answer {'answer': 'Berlin is the capital city of Germany.', 'type': 'generative', 'score': None, 'context': None, 'offsets_in_document': None, 'offsets_in_context': None, 'document_ids': ['1a7644ef76698b7a1c6ed23c357fa598'], 'meta': {}}>]},\n",
       " '_debug': {'PromptNode': {'runtime': {'prompts_used': ['Given the context please answer the question. Context: Berlin is the capital of Germany.; Question: What is the capital of Germany?; Answer:']}}},\n",
       " 'root_node': 'Query',\n",
       " 'params': {},\n",
       " 'query': 'What is the capital of Germany?',\n",
       " 'documents': [<Document: {'content': 'Berlin is the capital of Germany.', 'content_type': 'text', 'score': None, 'meta': {}, 'id_hash_keys': ['content'], 'embedding': None, 'id': '1a7644ef76698b7a1c6ed23c357fa598'}>],\n",
       " 'node_id': 'PromptNode'}"
      ]
     },
     "execution_count": 3,
     "metadata": {},
     "output_type": "execute_result"
    }
   ],
   "source": [
    "p.run(query=\"What is the capital of Germany?\", documents=[Document(\"Berlin is the capital of Germany.\")])"
   ]
  },
  {
   "cell_type": "code",
   "execution_count": 2,
   "metadata": {},
   "outputs": [],
   "source": [
    "from getpass import getpass\n",
    "\n",
    "api_key_prompt = \"Enter OpenAI API key:\"\n",
    "api_key = getpass(api_key_prompt)"
   ]
  },
  {
   "cell_type": "code",
   "execution_count": 3,
   "metadata": {},
   "outputs": [],
   "source": [
    "prompt_open_ai = PromptModel(\"text-davinci-003\", api_key=api_key)"
   ]
  },
  {
   "cell_type": "code",
   "execution_count": 4,
   "metadata": {},
   "outputs": [
    {
     "ename": "TypeError",
     "evalue": "__init__() got an unexpected keyword argument 'shaper_params'",
     "output_type": "error",
     "traceback": [
      "\u001b[0;31m---------------------------------------------------------------------------\u001b[0m",
      "\u001b[0;31mTypeError\u001b[0m                                 Traceback (most recent call last)",
      "Cell \u001b[0;32mIn[4], line 2\u001b[0m\n\u001b[1;32m      1\u001b[0m \u001b[39m# pn = PromptNode(default_prompt_template=\"question-answering-with-references\", model_name_or_path=\"google/flan-t5-base\", output_variable=\"answers\")\u001b[39;00m\n\u001b[0;32m----> 2\u001b[0m pn \u001b[39m=\u001b[39m PromptNode(\n\u001b[1;32m      3\u001b[0m     default_prompt_template\u001b[39m=\u001b[39;49m\u001b[39m\"\u001b[39;49m\u001b[39mquestion-answering-with-references\u001b[39;49m\u001b[39m\"\u001b[39;49m,\n\u001b[1;32m      4\u001b[0m     model_name_or_path\u001b[39m=\u001b[39;49mprompt_open_ai,\n\u001b[1;32m      5\u001b[0m     shaper_params\u001b[39m=\u001b[39;49m{\u001b[39m\"\u001b[39;49m\u001b[39mpattern\u001b[39;49m\u001b[39m\"\u001b[39;49m: \u001b[39m\"\u001b[39;49m\u001b[39mDocument[$idx]: $content;\u001b[39;49m\u001b[39m\"\u001b[39;49m},\n\u001b[1;32m      6\u001b[0m )\n",
      "File \u001b[0;32m~/git/haystack/haystack/nodes/base.py:47\u001b[0m, in \u001b[0;36mexportable_to_yaml.<locals>.wrapper_exportable_to_yaml\u001b[0;34m(self, *args, **kwargs)\u001b[0m\n\u001b[1;32m     44\u001b[0m         \u001b[39mself\u001b[39m\u001b[39m.\u001b[39m_component_config[\u001b[39m\"\u001b[39m\u001b[39mparams\u001b[39m\u001b[39m\"\u001b[39m][k] \u001b[39m=\u001b[39m v\n\u001b[1;32m     46\u001b[0m \u001b[39m# Call the actuall __init__ function with all the arguments\u001b[39;00m\n\u001b[0;32m---> 47\u001b[0m init_func(\u001b[39mself\u001b[39;49m, \u001b[39m*\u001b[39;49margs, \u001b[39m*\u001b[39;49m\u001b[39m*\u001b[39;49mkwargs)\n",
      "\u001b[0;31mTypeError\u001b[0m: __init__() got an unexpected keyword argument 'shaper_params'"
     ]
    }
   ],
   "source": [
    "# pn = PromptNode(default_prompt_template=\"question-answering-with-references\", model_name_or_path=\"google/flan-t5-base\", output_variable=\"answers\")\n",
    "pn = PromptNode(\n",
    "    default_prompt_template=\"question-answering-with-references\",\n",
    "    model_name_or_path=prompt_open_ai,\n",
    "    shaper_params={\"pattern\": \"Document[$idx]: $content;\"},\n",
    ")"
   ]
  },
  {
   "cell_type": "code",
   "execution_count": 6,
   "metadata": {},
   "outputs": [
    {
     "data": {
      "text/plain": [
       "{'answers': [<Answer {'answer': 'Answering is not possible given the available information.', 'type': 'generative', 'score': None, 'context': None, 'offsets_in_document': None, 'offsets_in_context': None, 'document_ids': None, 'meta': {}}>]}"
      ]
     },
     "execution_count": 6,
     "metadata": {},
     "output_type": "execute_result"
    }
   ],
   "source": [
    "pn(query=\"Why does probability work?\", documents=[Document(content=\"No one knows why probability works.\")])"
   ]
  },
  {
   "cell_type": "code",
   "execution_count": 6,
   "metadata": {},
   "outputs": [],
   "source": [
    "p = Pipeline()\n",
    "p.add_node(component=pn, name=\"PromptNode\", inputs=[\"Query\"])"
   ]
  },
  {
   "cell_type": "code",
   "execution_count": 4,
   "metadata": {},
   "outputs": [],
   "source": [
    "documents = [\n",
    "    Document(\n",
    "        \"\"\"Beer is the oldest[1][2][3] and most widely consumed[4] type of alcoholic drink in the world, and the third most popular drink overall after potable water and tea.[5] It is produced by the brewing and fermentation of starches, mainly derived from cereal grains—most commonly from malted barley, though wheat, maize (corn), rice, and oats are also used. During the brewing process, fermentation of the starch sugars in the wort produces ethanol and carbonation in the resulting beer.[6] Most modern beer is brewed with hops, which add bitterness and other flavours and act as a natural preservative and stabilizing agent. Other flavouring agents such as gruit, herbs, or fruits may be included or used instead of hops. In commercial brewing, the natural carbonation effect is often removed during processing and replaced with forced carbonation.[7]\"\"\"\n",
    "    )\n",
    "]"
   ]
  },
  {
   "cell_type": "code",
   "execution_count": 8,
   "metadata": {},
   "outputs": [
    {
     "data": {
      "text/plain": [
       "{'answers': [<Answer {'answer': 'Potable water is the most popular drink, followed by tea and beer as stated in Document[5].', 'type': 'generative', 'score': None, 'context': None, 'offsets_in_document': None, 'offsets_in_context': None, 'document_ids': None, 'meta': {}}>],\n",
       " 'invocation_context': {'query': 'What is the most popular drink?',\n",
       "  'documents': [<Document: {'content': 'Beer is the oldest[1][2][3] and most widely consumed[4] type of alcoholic drink in the world, and the third most popular drink overall after potable water and tea.[5] It is produced by the brewing and fermentation of starches, mainly derived from cereal grains—most commonly from malted barley, though wheat, maize (corn), rice, and oats are also used. During the brewing process, fermentation of the starch sugars in the wort produces ethanol and carbonation in the resulting beer.[6] Most modern beer is brewed with hops, which add bitterness and other flavours and act as a natural preservative and stabilizing agent. Other flavouring agents such as gruit, herbs, or fruits may be included or used instead of hops. In commercial brewing, the natural carbonation effect is often removed during processing and replaced with forced carbonation.[7]', 'content_type': 'text', 'score': None, 'meta': {}, 'id_hash_keys': ['content'], 'embedding': None, 'id': 'fcd62336fb380a69c2d655f8cd072995'}>],\n",
       "  'answers': [<Answer {'answer': 'Potable water is the most popular drink, followed by tea and beer as stated in Document[5].', 'type': 'generative', 'score': None, 'context': None, 'offsets_in_document': None, 'offsets_in_context': None, 'document_ids': None, 'meta': {}}>]},\n",
       " '_debug': {'PromptNode': {'runtime': {'prompts_used': ['Create a concise and informative answer (no more than 50 words) for a given question based solely on the given documents. You must only use information from the given documents. Use an unbiased and journalistic tone. Do not repeat text. Cite the documents using Document[number] notation. If multiple documents contain the answer, cite those documents like ‘as stated in Document[number,number,etc]’. If the documents do not contain the answer to the question, say that ‘answering is not possible given the available information.’\\nDocument[1]: Beer is the oldest(1)(2)(3) and most widely consumed(4) type of alcoholic drink in the world, and the third most popular drink overall after potable water and tea.(5) It is produced by the brewing and fermentation of starches, mainly derived from cereal grains—most commonly from malted barley, though wheat, maize (corn), rice, and oats are also used. During the brewing process, fermentation of the starch sugars in the wort produces ethanol and carbonation in the resulting beer.(6) Most modern beer is brewed with hops, which add bitterness and other flavours and act as a natural preservative and stabilizing agent. Other flavouring agents such as gruit, herbs, or fruits may be included or used instead of hops. In commercial brewing, the natural carbonation effect is often removed during processing and replaced with forced carbonation.(7);; \\n Question: What is the most popular drink?; Answer: ']}}},\n",
       " 'root_node': 'Query',\n",
       " 'params': {},\n",
       " 'query': 'What is the most popular drink?',\n",
       " 'documents': [<Document: {'content': 'Beer is the oldest[1][2][3] and most widely consumed[4] type of alcoholic drink in the world, and the third most popular drink overall after potable water and tea.[5] It is produced by the brewing and fermentation of starches, mainly derived from cereal grains—most commonly from malted barley, though wheat, maize (corn), rice, and oats are also used. During the brewing process, fermentation of the starch sugars in the wort produces ethanol and carbonation in the resulting beer.[6] Most modern beer is brewed with hops, which add bitterness and other flavours and act as a natural preservative and stabilizing agent. Other flavouring agents such as gruit, herbs, or fruits may be included or used instead of hops. In commercial brewing, the natural carbonation effect is often removed during processing and replaced with forced carbonation.[7]', 'content_type': 'text', 'score': None, 'meta': {}, 'id_hash_keys': ['content'], 'embedding': None, 'id': 'fcd62336fb380a69c2d655f8cd072995'}>],\n",
       " 'node_id': 'PromptNode'}"
      ]
     },
     "execution_count": 8,
     "metadata": {},
     "output_type": "execute_result"
    }
   ],
   "source": [
    "p.run(query=\"What is the most popular drink?\", documents=documents)"
   ]
  },
  {
   "cell_type": "code",
   "execution_count": 5,
   "metadata": {},
   "outputs": [],
   "source": [
    "input_shaper_questions = Shaper(\n",
    "    func=\"value_to_list\", inputs={\"value\": \"query\"}, outputs=[\"questions\"], params={\"target_list\": [1]}\n",
    ")"
   ]
  },
  {
   "cell_type": "code",
   "execution_count": 6,
   "metadata": {},
   "outputs": [],
   "source": [
    "input_shaper_documents = Shaper(\n",
    "    func=\"join_documents\", inputs={\"documents\": \"documents\"}, outputs=[\"documents\"], params={\"delimiter\": \" - \"}, publish_outputs=False\n",
    ")"
   ]
  },
  {
   "cell_type": "code",
   "execution_count": 7,
   "metadata": {},
   "outputs": [],
   "source": [
    "output_shaper_answers = Shaper(func=\"strings_to_answers\", inputs={\"strings\": \"results\"}, outputs=[\"answers\"])"
   ]
  },
  {
   "cell_type": "code",
   "execution_count": 8,
   "metadata": {},
   "outputs": [],
   "source": [
    "pn = PromptNode(\n",
    "    default_prompt_template=\"question-answering\",\n",
    "    model_name_or_path=prompt_open_ai,\n",
    ")"
   ]
  },
  {
   "cell_type": "code",
   "execution_count": 9,
   "metadata": {},
   "outputs": [],
   "source": [
    "p = Pipeline()\n",
    "p.add_node(component=input_shaper_documents, name=\"InputShaperDocuments\", inputs=[\"Query\"])\n",
    "p.add_node(component=input_shaper_questions, name=\"InputShaperQuestions\", inputs=[\"InputShaperDocuments\"])\n",
    "p.add_node(component=pn, name=\"PromptNode\", inputs=[\"InputShaperQuestions\"])\n",
    "p.add_node(component=output_shaper_answers, name=\"OutputShaperAnswers\", inputs=[\"PromptNode\"])"
   ]
  },
  {
   "cell_type": "code",
   "execution_count": 10,
   "metadata": {},
   "outputs": [],
   "source": [
    "res = p.run(\n",
    "    query=\"Why does probability work?\", documents=[Document(content=\"test\"), Document(content=\"test2\")], debug=True\n",
    ")"
   ]
  },
  {
   "cell_type": "code",
   "execution_count": 11,
   "metadata": {},
   "outputs": [
    {
     "data": {
      "text/plain": [
       "{'prompts_used': ['Given the context please answer the question. Context: test - test2; Question: Why does probability work?; Answer:']}"
      ]
     },
     "execution_count": 11,
     "metadata": {},
     "output_type": "execute_result"
    }
   ],
   "source": [
    "res[\"_debug\"][\"PromptNode\"][\"runtime\"]"
   ]
  },
  {
   "cell_type": "code",
   "execution_count": 12,
   "metadata": {},
   "outputs": [
    {
     "data": {
      "text/plain": [
       "[<Document: {'content': 'test', 'content_type': 'text', 'score': None, 'meta': {}, 'id_hash_keys': ['content'], 'embedding': None, 'id': '9a128231f9bd4d82ac7d28cc74bde19d'}>,\n",
       " <Document: {'content': 'test2', 'content_type': 'text', 'score': None, 'meta': {}, 'id_hash_keys': ['content'], 'embedding': None, 'id': 'd1c073b108e8511df7237f6031462f96'}>]"
      ]
     },
     "execution_count": 12,
     "metadata": {},
     "output_type": "execute_result"
    }
   ],
   "source": [
    "res[\"documents\"]"
   ]
  },
  {
   "cell_type": "code",
   "execution_count": 13,
   "metadata": {},
   "outputs": [
    {
     "data": {
      "text/plain": [
       "{'answers': [<Answer {'answer': 'Probability works because it provides a way to measure the likelihood of an event occurring based on a given set of conditions. It uses mathematical equations to calculate the chances of a certain outcome, which can be used to make predictions or analyze data.', 'type': 'generative', 'score': None, 'context': None, 'offsets_in_document': None, 'offsets_in_context': None, 'document_ids': None, 'meta': {}}>],\n",
       " 'invocation_context': {'query': 'Why does probability work?',\n",
       "  'documents': ['test - test2'],\n",
       "  'questions': ['Why does probability work?'],\n",
       "  'results': ['Probability works because it provides a way to measure the likelihood of an event occurring based on a given set of conditions. It uses mathematical equations to calculate the chances of a certain outcome, which can be used to make predictions or analyze data.'],\n",
       "  'answers': [<Answer {'answer': 'Probability works because it provides a way to measure the likelihood of an event occurring based on a given set of conditions. It uses mathematical equations to calculate the chances of a certain outcome, which can be used to make predictions or analyze data.', 'type': 'generative', 'score': None, 'context': None, 'offsets_in_document': None, 'offsets_in_context': None, 'document_ids': None, 'meta': {}}>]},\n",
       " '_debug': {'Query': {'input': {'debug': True}, 'output': {}},\n",
       "  'InputShaperDocuments': {'input': {'query': 'Why does probability work?',\n",
       "    'documents': [<Document: {'content': 'test', 'content_type': 'text', 'score': None, 'meta': {}, 'id_hash_keys': ['content'], 'embedding': None, 'id': '9a128231f9bd4d82ac7d28cc74bde19d'}>,\n",
       "     <Document: {'content': 'test2', 'content_type': 'text', 'score': None, 'meta': {}, 'id_hash_keys': ['content'], 'embedding': None, 'id': 'd1c073b108e8511df7237f6031462f96'}>],\n",
       "    'debug': True},\n",
       "   'output': {'invocation_context': {'query': 'Why does probability work?',\n",
       "     'documents': ['test - test2'],\n",
       "     'questions': ['Why does probability work?'],\n",
       "     'results': ['Probability works because it provides a way to measure the likelihood of an event occurring based on a given set of conditions. It uses mathematical equations to calculate the chances of a certain outcome, which can be used to make predictions or analyze data.'],\n",
       "     'answers': [<Answer {'answer': 'Probability works because it provides a way to measure the likelihood of an event occurring based on a given set of conditions. It uses mathematical equations to calculate the chances of a certain outcome, which can be used to make predictions or analyze data.', 'type': 'generative', 'score': None, 'context': None, 'offsets_in_document': None, 'offsets_in_context': None, 'document_ids': None, 'meta': {}}>]}}},\n",
       "  'InputShaperQuestions': {'input': {'invocation_context': {'query': 'Why does probability work?',\n",
       "     'documents': ['test - test2'],\n",
       "     'questions': ['Why does probability work?'],\n",
       "     'results': ['Probability works because it provides a way to measure the likelihood of an event occurring based on a given set of conditions. It uses mathematical equations to calculate the chances of a certain outcome, which can be used to make predictions or analyze data.'],\n",
       "     'answers': [<Answer {'answer': 'Probability works because it provides a way to measure the likelihood of an event occurring based on a given set of conditions. It uses mathematical equations to calculate the chances of a certain outcome, which can be used to make predictions or analyze data.', 'type': 'generative', 'score': None, 'context': None, 'offsets_in_document': None, 'offsets_in_context': None, 'document_ids': None, 'meta': {}}>]},\n",
       "    'query': 'Why does probability work?',\n",
       "    'documents': [<Document: {'content': 'test', 'content_type': 'text', 'score': None, 'meta': {}, 'id_hash_keys': ['content'], 'embedding': None, 'id': '9a128231f9bd4d82ac7d28cc74bde19d'}>,\n",
       "     <Document: {'content': 'test2', 'content_type': 'text', 'score': None, 'meta': {}, 'id_hash_keys': ['content'], 'embedding': None, 'id': 'd1c073b108e8511df7237f6031462f96'}>],\n",
       "    'debug': True},\n",
       "   'output': {'questions': ['Why does probability work?'],\n",
       "    'invocation_context': {'query': 'Why does probability work?',\n",
       "     'documents': ['test - test2'],\n",
       "     'questions': ['Why does probability work?'],\n",
       "     'results': ['Probability works because it provides a way to measure the likelihood of an event occurring based on a given set of conditions. It uses mathematical equations to calculate the chances of a certain outcome, which can be used to make predictions or analyze data.'],\n",
       "     'answers': [<Answer {'answer': 'Probability works because it provides a way to measure the likelihood of an event occurring based on a given set of conditions. It uses mathematical equations to calculate the chances of a certain outcome, which can be used to make predictions or analyze data.', 'type': 'generative', 'score': None, 'context': None, 'offsets_in_document': None, 'offsets_in_context': None, 'document_ids': None, 'meta': {}}>]}}},\n",
       "  'PromptNode': {'input': {'invocation_context': {'query': 'Why does probability work?',\n",
       "     'documents': ['test - test2'],\n",
       "     'questions': ['Why does probability work?'],\n",
       "     'results': ['Probability works because it provides a way to measure the likelihood of an event occurring based on a given set of conditions. It uses mathematical equations to calculate the chances of a certain outcome, which can be used to make predictions or analyze data.'],\n",
       "     'answers': [<Answer {'answer': 'Probability works because it provides a way to measure the likelihood of an event occurring based on a given set of conditions. It uses mathematical equations to calculate the chances of a certain outcome, which can be used to make predictions or analyze data.', 'type': 'generative', 'score': None, 'context': None, 'offsets_in_document': None, 'offsets_in_context': None, 'document_ids': None, 'meta': {}}>]},\n",
       "    'query': 'Why does probability work?',\n",
       "    'documents': [<Document: {'content': 'test', 'content_type': 'text', 'score': None, 'meta': {}, 'id_hash_keys': ['content'], 'embedding': None, 'id': '9a128231f9bd4d82ac7d28cc74bde19d'}>,\n",
       "     <Document: {'content': 'test2', 'content_type': 'text', 'score': None, 'meta': {}, 'id_hash_keys': ['content'], 'embedding': None, 'id': 'd1c073b108e8511df7237f6031462f96'}>],\n",
       "    'debug': True},\n",
       "   'output': {'results': ['Probability works because it provides a way to measure the likelihood of an event occurring based on a given set of conditions. It uses mathematical equations to calculate the chances of a certain outcome, which can be used to make predictions or analyze data.'],\n",
       "    'invocation_context': {'query': 'Why does probability work?',\n",
       "     'documents': ['test - test2'],\n",
       "     'questions': ['Why does probability work?'],\n",
       "     'results': ['Probability works because it provides a way to measure the likelihood of an event occurring based on a given set of conditions. It uses mathematical equations to calculate the chances of a certain outcome, which can be used to make predictions or analyze data.'],\n",
       "     'answers': [<Answer {'answer': 'Probability works because it provides a way to measure the likelihood of an event occurring based on a given set of conditions. It uses mathematical equations to calculate the chances of a certain outcome, which can be used to make predictions or analyze data.', 'type': 'generative', 'score': None, 'context': None, 'offsets_in_document': None, 'offsets_in_context': None, 'document_ids': None, 'meta': {}}>]}},\n",
       "   'runtime': {'prompts_used': ['Given the context please answer the question. Context: test - test2; Question: Why does probability work?; Answer:']}},\n",
       "  'OutputShaperAnswers': {'input': {'invocation_context': {'query': 'Why does probability work?',\n",
       "     'documents': ['test - test2'],\n",
       "     'questions': ['Why does probability work?'],\n",
       "     'results': ['Probability works because it provides a way to measure the likelihood of an event occurring based on a given set of conditions. It uses mathematical equations to calculate the chances of a certain outcome, which can be used to make predictions or analyze data.'],\n",
       "     'answers': [<Answer {'answer': 'Probability works because it provides a way to measure the likelihood of an event occurring based on a given set of conditions. It uses mathematical equations to calculate the chances of a certain outcome, which can be used to make predictions or analyze data.', 'type': 'generative', 'score': None, 'context': None, 'offsets_in_document': None, 'offsets_in_context': None, 'document_ids': None, 'meta': {}}>]},\n",
       "    'query': 'Why does probability work?',\n",
       "    'documents': [<Document: {'content': 'test', 'content_type': 'text', 'score': None, 'meta': {}, 'id_hash_keys': ['content'], 'embedding': None, 'id': '9a128231f9bd4d82ac7d28cc74bde19d'}>,\n",
       "     <Document: {'content': 'test2', 'content_type': 'text', 'score': None, 'meta': {}, 'id_hash_keys': ['content'], 'embedding': None, 'id': 'd1c073b108e8511df7237f6031462f96'}>],\n",
       "    'debug': True},\n",
       "   'output': {'answers': [<Answer {'answer': 'Probability works because it provides a way to measure the likelihood of an event occurring based on a given set of conditions. It uses mathematical equations to calculate the chances of a certain outcome, which can be used to make predictions or analyze data.', 'type': 'generative', 'score': None, 'context': None, 'offsets_in_document': None, 'offsets_in_context': None, 'document_ids': None, 'meta': {}}>],\n",
       "    'invocation_context': {'query': 'Why does probability work?',\n",
       "     'documents': ['test - test2'],\n",
       "     'questions': ['Why does probability work?'],\n",
       "     'results': ['Probability works because it provides a way to measure the likelihood of an event occurring based on a given set of conditions. It uses mathematical equations to calculate the chances of a certain outcome, which can be used to make predictions or analyze data.'],\n",
       "     'answers': [<Answer {'answer': 'Probability works because it provides a way to measure the likelihood of an event occurring based on a given set of conditions. It uses mathematical equations to calculate the chances of a certain outcome, which can be used to make predictions or analyze data.', 'type': 'generative', 'score': None, 'context': None, 'offsets_in_document': None, 'offsets_in_context': None, 'document_ids': None, 'meta': {}}>]}}}},\n",
       " 'results': ['Probability works because it provides a way to measure the likelihood of an event occurring based on a given set of conditions. It uses mathematical equations to calculate the chances of a certain outcome, which can be used to make predictions or analyze data.'],\n",
       " 'questions': ['Why does probability work?'],\n",
       " 'root_node': 'Query',\n",
       " 'params': {'Query': {},\n",
       "  'InputShaperDocuments': {},\n",
       "  'InputShaperQuestions': {},\n",
       "  'PromptNode': {},\n",
       "  'OutputShaperAnswers': {}},\n",
       " 'query': 'Why does probability work?',\n",
       " 'documents': [<Document: {'content': 'test', 'content_type': 'text', 'score': None, 'meta': {}, 'id_hash_keys': ['content'], 'embedding': None, 'id': '9a128231f9bd4d82ac7d28cc74bde19d'}>,\n",
       "  <Document: {'content': 'test2', 'content_type': 'text', 'score': None, 'meta': {}, 'id_hash_keys': ['content'], 'embedding': None, 'id': 'd1c073b108e8511df7237f6031462f96'}>],\n",
       " 'node_id': 'OutputShaperAnswers'}"
      ]
     },
     "execution_count": 13,
     "metadata": {},
     "output_type": "execute_result"
    }
   ],
   "source": [
    "res"
   ]
  },
  {
   "cell_type": "code",
   "execution_count": null,
   "metadata": {},
   "outputs": [],
   "source": []
  }
 ],
 "metadata": {
  "kernelspec": {
   "display_name": "haystack-dev-py38",
   "language": "python",
   "name": "python3"
  },
  "language_info": {
   "codemirror_mode": {
    "name": "ipython",
    "version": 3
   },
   "file_extension": ".py",
   "mimetype": "text/x-python",
   "name": "python",
   "nbconvert_exporter": "python",
   "pygments_lexer": "ipython3",
   "version": "3.8.16"
  },
  "orig_nbformat": 4,
  "vscode": {
   "interpreter": {
    "hash": "63757d42c4c0f764a790a2833efd47121698a43740a0cf80c15d5a0f07b636e7"
   }
  }
 },
 "nbformat": 4,
 "nbformat_minor": 2
}
