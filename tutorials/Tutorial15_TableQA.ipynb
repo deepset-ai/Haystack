{
  "nbformat": 4,
  "nbformat_minor": 0,
  "metadata": {
    "colab": {
      "name": "Tutorial15_TableQA.ipynb",
      "provenance": []
    },
    "kernelspec": {
      "name": "python3",
      "display_name": "Python 3"
    },
    "language_info": {
      "name": "python"
    },
    "accelerator": "GPU"
  },
  "cells": [
    {
      "cell_type": "markdown",
      "metadata": {
        "id": "DeAkZwDhufYA"
      },
      "source": [
        "# Open-Domain QA on Tables\n",
        "[![Open In Colab](https://colab.research.google.com/assets/colab-badge.svg)](https://colab.research.google.com/github/deepset-ai/haystack/blob/master/tutorials/Tutorial15_TableQA.ipynb)\n",
        "\n",
        "This tutorial shows you how to perform question-answering on tables using the `TableTextRetriever` or `ElasticsearchRetriever` as retriever node and the `TableReader` as reader node."
      ]
    },
    {
      "cell_type": "markdown",
      "metadata": {
        "id": "vbR3bETlvi-3"
      },
      "source": [
        "### Prepare environment\n",
        "\n",
        "#### Colab: Enable the GPU runtime\n",
        "Make sure you enable the GPU runtime to experience decent speed in this tutorial.\n",
        "**Runtime -> Change Runtime type -> Hardware accelerator -> GPU**\n",
        "\n",
        "<img src=\"https://raw.githubusercontent.com/deepset-ai/haystack/master/docs/_src/img/colab_gpu_runtime.jpg\">"
      ]
    },
    {
      "cell_type": "code",
      "metadata": {
        "id": "HW66x0rfujyO"
      },
      "source": [
        "# Make sure you have a GPU running\n",
        "!nvidia-smi"
      ],
      "execution_count": null,
      "outputs": []
    },
    {
      "cell_type": "code",
      "metadata": {
        "id": "_ZXoyhOAvn7M"
      },
      "source": [
        "# Install the latest release of Haystack in your own environment \n",
        "#! pip install farm-haystack\n",
        "\n",
        "# Install the latest master of Haystack\n",
        "!pip install grpcio-tools==1.34.1\n",
        "!pip install git+https://github.com/deepset-ai/haystack.git\n",
        "\n",
        "# The TaPAs-based TableReader requires the torch-scatter library\n",
        "!pip install torch-scatter -f https://data.pyg.org/whl/torch-1.9.0+cu111.html\n",
        "\n",
        "# If you run this notebook on Google Colab, you might need to\n",
        "# restart the runtime after installing haystack."
      ],
      "execution_count": null,
      "outputs": []
    },
    {
      "cell_type": "markdown",
      "metadata": {
        "id": "K_XJhluXwF5_"
      },
      "source": [
        "### Start an Elasticsearch server\n",
        "You can start Elasticsearch on your local machine instance using Docker. If Docker is not readily available in your environment (e.g. in Colab notebooks), then you can manually download and execute Elasticsearch from source."
      ]
    },
    {
      "cell_type": "code",
      "metadata": {
        "id": "frDqgzK7v2i1"
      },
      "source": [
        "# Recommended: Start Elasticsearch using Docker via the Haystack utility function\n",
        "from haystack.utils import launch_es\n",
        "\n",
        "launch_es()"
      ],
      "execution_count": null,
      "outputs": []
    },
    {
      "cell_type": "code",
      "metadata": {
        "id": "S4PGj1A6wKWu"
      },
      "source": [
        "# In Colab / No Docker environments: Start Elasticsearch from source\n",
        "! wget https://artifacts.elastic.co/downloads/elasticsearch/elasticsearch-7.9.2-linux-x86_64.tar.gz -q\n",
        "! tar -xzf elasticsearch-7.9.2-linux-x86_64.tar.gz\n",
        "! chown -R daemon:daemon elasticsearch-7.9.2\n",
        "\n",
        "import os\n",
        "from subprocess import Popen, PIPE, STDOUT\n",
        "es_server = Popen(['elasticsearch-7.9.2/bin/elasticsearch'],\n",
        "                   stdout=PIPE, stderr=STDOUT,\n",
        "                   preexec_fn=lambda: os.setuid(1)  # as daemon\n",
        "                  )\n",
        "# wait until ES has started\n",
        "! sleep 30"
      ],
      "execution_count": null,
      "outputs": []
    },
    {
      "cell_type": "code",
      "metadata": {
        "id": "RmxepXZtwQ0E"
      },
      "source": [
        "# Connect to Elasticsearch\n",
        "from haystack.document_stores import ElasticsearchDocumentStore\n",
        "\n",
        "# We want to use a small model producing 512-dimensional embeddings, so we need to set embedding_dim to 512\n",
        "document_store = ElasticsearchDocumentStore(host=\"localhost\",\n",
        "                                            username=\"\",\n",
        "                                            password=\"\",\n",
        "                                            index=\"document\",\n",
        "                                            embedding_dim=512)"
      ],
      "execution_count": null,
      "outputs": []
    },
    {
      "cell_type": "markdown",
      "metadata": {
        "id": "fFh26LIlxldw"
      },
      "source": [
        "## Add Tables to DocumentStore\n",
        "To quickly demonstrate the capabilities of the `TableTextRetriever` and the `TableReader` we use a subset of 1000 tables of the [Open Table-and-Text Question Answering (OTT-QA) dataset](https://github.com/wenhuchen/OTT-QA).\n",
        "\n",
        "Just as text passages, tables are represented as `Document` ojects in Haystack. The content field, though, is a pandas DataFrame instead of a string."
      ]
    },
    {
      "cell_type": "code",
      "metadata": {
        "id": "nM63uwbd8zd6"
      },
      "source": [
        "# Let's first fetch some tables that we want to query\n",
        "# Here: 1000 tables from OTT-QA\n",
        "from haystack.utils import fetch_archive_from_http\n",
        "\n",
        "doc_dir = \"data\"\n",
        "s3_url = \"https://s3.eu-central-1.amazonaws.com/deepset.ai-farm-qa/datasets/documents/ottqa_tables_sample.json.zip\"\n",
        "fetch_archive_from_http(url=s3_url, output_dir=doc_dir)"
      ],
      "execution_count": null,
      "outputs": []
    },
    {
      "cell_type": "code",
      "metadata": {
        "id": "SKjw2LuXxlGh"
      },
      "source": [
        "# Add the tables to the DocumentStore\n",
        "\n",
        "import json\n",
        "from haystack import Document\n",
        "import pandas as pd\n",
        "\n",
        "def read_ottqa_tables(filename):\n",
        "    processed_tables = []\n",
        "    with open(filename) as tables:\n",
        "        tables = json.load(tables)\n",
        "        for key, table in tables.items():\n",
        "            current_columns = table[\"header\"]\n",
        "            current_rows = table[\"data\"]\n",
        "            current_df = pd.DataFrame(columns=current_columns, data=current_rows)\n",
        "            current_doc_title = table[\"title\"]\n",
        "            current_section_title = table[\"section_title\"]\n",
        "            document = Document(\n",
        "                content=current_df,\n",
        "                content_type=\"table\",\n",
        "                meta={\"title\": current_doc_title, \"section_title\": current_section_title},\n",
        "                id=key\n",
        "            )\n",
        "            processed_tables.append(document)\n",
        "\n",
        "    return processed_tables\n",
        "\n",
        "\n",
        "tables = read_ottqa_tables(\"data/ottqa_tables_sample.json\")\n",
        "document_store.write_documents(tables, index=\"document\")"
      ],
      "execution_count": null,
      "outputs": []
    },
    {
      "cell_type": "markdown",
      "metadata": {
        "id": "hmQC1sDmw3d7"
      },
      "source": [
        "## Initalize Retriever, Reader, & Pipeline\n",
        "\n",
        "### Retriever\n",
        "\n",
        "Retrievers help narrowing down the scope for the Reader to a subset of tables where a given question could be answered.\n",
        "They use some simple but fast algorithm.\n",
        "\n",
        "**Here:** We use the `TableTextRetriever` capable of retrieving relevant content among a database\n",
        "of texts and tables using dense embeddings.\n",
        "\n",
        "**Alternatives:**\n",
        "\n",
        "- `ElasticsearchRetriever` that uses BM25 algorithm\n"
      ]
    },
    {
      "cell_type": "code",
      "metadata": {
        "id": "EY_qvdV6wyK5"
      },
      "source": [
        "from haystack.nodes.retriever import TableTextRetriever\n",
        "\n",
        "retriever = TableTextRetriever(\n",
        "    document_store=document_store,\n",
        "    query_embedding_model=\"deepset/bert-small-mm_retrieval-question_encoder\",\n",
        "    passage_embedding_model=\"deepset/bert-small-mm_retrieval-passage_encoder\",\n",
        "    table_embedding_model=\"deepset/bert-small-mm_retrieval-table_encoder\",\n",
        "    embed_meta_fields=[\"title\", \"section_title\"]\n",
        ")"
      ],
      "execution_count": null,
      "outputs": []
    },
    {
      "cell_type": "code",
      "metadata": {
        "id": "jasi1RM2zIJ7"
      },
      "source": [
        "# Add table embeddings to the tables in DocumentStore\n",
        "document_store.update_embeddings(retriever=retriever)"
      ],
      "execution_count": null,
      "outputs": []
    },
    {
      "cell_type": "code",
      "metadata": {
        "id": "XM-ijy6Zz11L"
      },
      "source": [
        "## Alternative: ElasticsearchRetriever\n",
        "#from haystack.nodes.retriever import ElasticsearchRetriever\n",
        "#retriever = ElasticsearchRetriever(document_store=document_store)"
      ],
      "execution_count": null,
      "outputs": []
    },
    {
      "cell_type": "code",
      "metadata": {
        "id": "YHfQWxVI0N2e"
      },
      "source": [
        "# Try the Retriever\n",
        "from haystack.utils import print_documents\n",
        "\n",
        "retrieved_tables = retriever.retrieve(\"How many twin buildings are under construction?\", top_k=5)\n",
        "# Get highest scored table\n",
        "print(retrieved_tables[0].content)"
      ],
      "execution_count": null,
      "outputs": []
    },
    {
      "cell_type": "markdown",
      "metadata": {
        "id": "zbwkXScm2-gy"
      },
      "source": [
        "### Reader\n",
        "The `TableReader` is based on TaPas, a transformer-based language model capable of grasping the two-dimensional structure of a table. It scans the tables returned by the retriever and extracts the anser. The available TableReader models can be found [here](https://huggingface.co/models?pipeline_tag=table-question-answering&sort=downloads).\n",
        "\n",
        "**Notice**: The `TableReader` will return an answer for each table, even if the query cannot be answered by the table. Furthermore, the confidence scores are not useful as of now, given that they will *always* be very high (i.e. 1 or close to 1)."
      ]
    },
    {
      "cell_type": "code",
      "metadata": {
        "id": "4APcRoio2RxG"
      },
      "source": [
        "from haystack.nodes import TableReader\n",
        "\n",
        "reader = TableReader(model_name_or_path=\"google/tapas-base-finetuned-wtq\", max_seq_len=512)"
      ],
      "execution_count": null,
      "outputs": []
    },
    {
      "cell_type": "code",
      "metadata": {
        "id": "ILuAXkyN4F7x"
      },
      "source": [
        "# Try the TableReader on one Table (highest-scored retrieved table)\n",
        "\n",
        "table_doc = document_store.get_document_by_id(\"List_of_tallest_twin_buildings_and_structures_in_the_world_1\")\n",
        "print(table_doc.content)"
      ],
      "execution_count": null,
      "outputs": []
    },
    {
      "cell_type": "code",
      "metadata": {
        "id": "ilbsecgA4vfN"
      },
      "source": [
        "from haystack.utils import print_answers\n",
        "\n",
        "prediction = reader.predict(query=\"How many twin buildings are under construction?\", documents=[table_doc])\n",
        "print_answers(prediction, details=\"minimal\")"
      ],
      "execution_count": null,
      "outputs": []
    },
    {
      "cell_type": "markdown",
      "metadata": {
        "id": "pgmG7pzL5ceh"
      },
      "source": [
        "### Pipeline\n",
        "The retriever and the retriever can be sticked together to a pipeline in order to first retrieve relevant tables and then extract the answer.\n",
        "\n",
        "**Notice**: Given that the `TableReader` does not provide useful confidence scores and returns an answer for each of the tables, the sorting of the answers might be not helpful."
      ]
    },
    {
      "cell_type": "code",
      "metadata": {
        "id": "G-aZZvyv4-Mf"
      },
      "source": [
        "# Initialize pipeline\n",
        "from haystack import Pipeline\n",
        "\n",
        "table_qa_pipeline = Pipeline()\n",
        "table_qa_pipeline.add_node(component=retriever, name=\"TableTextRetriever\", inputs=[\"Query\"])\n",
        "table_qa_pipeline.add_node(component=reader, name=\"TableReader\", inputs=[\"TableTextRetriever\"])"
      ],
      "execution_count": null,
      "outputs": []
    },
    {
      "cell_type": "code",
      "metadata": {
        "id": "m8evexnW6dev"
      },
      "source": [
        "prediction = table_qa_pipeline.run(\"How many twin buildings are under construction?\")\n",
        "print_answers(prediction, details=\"minimal\")"
      ],
      "execution_count": null,
      "outputs": []
    },
    {
      "cell_type": "markdown",
      "metadata": {
        "id": "RyeK3s28_X1C"
      },
      "source": [
        "## About us\n",
        "\n",
        "This [Haystack](https://github.com/deepset-ai/haystack/) notebook was made with love by [deepset](https://deepset.ai/) in Berlin, Germany\n",
        "\n",
        "We bring NLP to the industry via open source!  \n",
        "Our focus: Industry specific language models & large scale QA systems.  \n",
        "  \n",
        "Some of our other work: \n",
        "- [German BERT](https://deepset.ai/german-bert)\n",
        "- [GermanQuAD and GermanDPR](https://deepset.ai/germanquad)\n",
        "- [FARM](https://github.com/deepset-ai/FARM)\n",
        "\n",
        "Get in touch:\n",
        "[Twitter](https://twitter.com/deepset_ai) | [LinkedIn](https://www.linkedin.com/company/deepset-ai/) | [Slack](https://haystack.deepset.ai/community/join) | [GitHub Discussions](https://github.com/deepset-ai/haystack/discussions) | [Website](https://deepset.ai)\n",
        "\n",
        "By the way: [we're hiring!](https://www.deepset.ai/jobs)\n"
      ]
    },
    {
      "cell_type": "code",
      "metadata": {
        "id": "f2tEFM0s_Y_u"
      },
      "source": [
        ""
      ],
      "execution_count": null,
      "outputs": []
    }
  ]
}