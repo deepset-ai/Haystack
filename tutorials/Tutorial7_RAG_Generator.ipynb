{
  "cells": [
    {
      "cell_type": "code",
      "metadata": {
      },
      "source": [
        "!pip install git+https://github.com/lalitpagaria/haystack.git@implement_RAG\n",
        "!pip install urllib3==1.25.4"
      ],
      "execution_count": 2,
      "outputs": [
        {
          "output_type": "stream",
          "text": [
            "Collecting git+https://github.com/lalitpagaria/haystack.git@implement_RAG\n",
            "  Cloning https://github.com/lalitpagaria/haystack.git (to revision implement_RAG) to /tmp/pip-req-build-j7v_rax4\n",
            "  Running command git clone -q https://github.com/lalitpagaria/haystack.git /tmp/pip-req-build-j7v_rax4\n",
            "  Running command git checkout -b implement_RAG --track origin/implement_RAG\n",
            "  Switched to a new branch 'implement_RAG'\n",
            "  Branch 'implement_RAG' set up to track remote branch 'implement_RAG' from 'origin'.\n",
            "Requirement already satisfied (use --upgrade to upgrade): farm-haystack==0.4.0 from git+https://github.com/lalitpagaria/haystack.git@implement_RAG in /usr/local/lib/python3.6/dist-packages\n",
            "Requirement already satisfied: fastapi in /usr/local/lib/python3.6/dist-packages (from farm-haystack==0.4.0) (0.61.1)\n",
            "Requirement already satisfied: uvicorn in /usr/local/lib/python3.6/dist-packages (from farm-haystack==0.4.0) (0.12.2)\n",
            "Requirement already satisfied: gunicorn in /usr/local/lib/python3.6/dist-packages (from farm-haystack==0.4.0) (20.0.4)\n",
            "Requirement already satisfied: pandas in /usr/local/lib/python3.6/dist-packages (from farm-haystack==0.4.0) (1.1.2)\n",
            "Requirement already satisfied: sklearn in /usr/local/lib/python3.6/dist-packages (from farm-haystack==0.4.0) (0.0)\n",
            "Requirement already satisfied: elasticsearch in /usr/local/lib/python3.6/dist-packages (from farm-haystack==0.4.0) (7.9.1)\n",
            "Requirement already satisfied: elastic-apm in /usr/local/lib/python3.6/dist-packages (from farm-haystack==0.4.0) (5.9.0)\n",
            "Requirement already satisfied: tox in /usr/local/lib/python3.6/dist-packages (from farm-haystack==0.4.0) (3.20.1)\n",
            "Requirement already satisfied: coverage in /usr/local/lib/python3.6/dist-packages (from farm-haystack==0.4.0) (3.7.1)\n",
            "Requirement already satisfied: langdetect in /usr/local/lib/python3.6/dist-packages (from farm-haystack==0.4.0) (1.0.8)\n",
            "Requirement already satisfied: python-multipart in /usr/local/lib/python3.6/dist-packages (from farm-haystack==0.4.0) (0.0.5)\n",
            "Requirement already satisfied: python-docx in /usr/local/lib/python3.6/dist-packages (from farm-haystack==0.4.0) (0.8.10)\n",
            "Requirement already satisfied: sqlalchemy_utils in /usr/local/lib/python3.6/dist-packages (from farm-haystack==0.4.0) (0.36.8)\n",
            "Requirement already satisfied: tika in /usr/local/lib/python3.6/dist-packages (from farm-haystack==0.4.0) (1.24)\n",
            "Requirement already satisfied: httptools in /usr/local/lib/python3.6/dist-packages (from farm-haystack==0.4.0) (0.1.1)\n",
            "Requirement already satisfied: nltk in /usr/local/lib/python3.6/dist-packages (from farm-haystack==0.4.0) (3.2.5)\n",
            "Requirement already satisfied: more_itertools in /usr/local/lib/python3.6/dist-packages (from farm-haystack==0.4.0) (8.5.0)\n",
            "Requirement already satisfied: farm@ git+https://github.com/deepset-ai/FARM.git@master from git+https://github.com/deepset-ai/FARM.git@master in /usr/local/lib/python3.6/dist-packages (from farm-haystack==0.4.0) (0.4.9)\n",
            "Requirement already satisfied: psycopg2-binary in /usr/local/lib/python3.6/dist-packages (from farm-haystack==0.4.0) (2.8.6)\n",
            "Requirement already satisfied: faiss-cpu in /usr/local/lib/python3.6/dist-packages (from farm-haystack==0.4.0) (1.6.3)\n",
            "Requirement already satisfied: uvloop in /usr/local/lib/python3.6/dist-packages (from farm-haystack==0.4.0) (0.14.0)\n",
            "Requirement already satisfied: starlette==0.13.6 in /usr/local/lib/python3.6/dist-packages (from fastapi->farm-haystack==0.4.0) (0.13.6)\n",
            "Requirement already satisfied: pydantic<2.0.0,>=1.0.0 in /usr/local/lib/python3.6/dist-packages (from fastapi->farm-haystack==0.4.0) (1.6.1)\n",
            "Requirement already satisfied: click==7.* in /usr/local/lib/python3.6/dist-packages (from uvicorn->farm-haystack==0.4.0) (7.1.2)\n",
            "Requirement already satisfied: typing-extensions; python_version < \"3.8\" in /usr/local/lib/python3.6/dist-packages (from uvicorn->farm-haystack==0.4.0) (3.7.4.3)\n",
            "Requirement already satisfied: h11>=0.8 in /usr/local/lib/python3.6/dist-packages (from uvicorn->farm-haystack==0.4.0) (0.11.0)\n",
            "Requirement already satisfied: setuptools>=3.0 in /usr/local/lib/python3.6/dist-packages (from gunicorn->farm-haystack==0.4.0) (50.3.0)\n",
            "Requirement already satisfied: numpy>=1.15.4 in /usr/local/lib/python3.6/dist-packages (from pandas->farm-haystack==0.4.0) (1.18.5)\n",
            "Requirement already satisfied: python-dateutil>=2.7.3 in /usr/local/lib/python3.6/dist-packages (from pandas->farm-haystack==0.4.0) (2.8.1)\n",
            "Requirement already satisfied: pytz>=2017.2 in /usr/local/lib/python3.6/dist-packages (from pandas->farm-haystack==0.4.0) (2018.9)\n",
            "Requirement already satisfied: scikit-learn in /usr/local/lib/python3.6/dist-packages (from sklearn->farm-haystack==0.4.0) (0.22.2.post1)\n",
            "Requirement already satisfied: urllib3>=1.21.1 in /usr/local/lib/python3.6/dist-packages (from elasticsearch->farm-haystack==0.4.0) (1.24.3)\n",
            "Requirement already satisfied: certifi in /usr/local/lib/python3.6/dist-packages (from elasticsearch->farm-haystack==0.4.0) (2020.6.20)\n",
            "Requirement already satisfied: packaging>=14 in /usr/local/lib/python3.6/dist-packages (from tox->farm-haystack==0.4.0) (20.4)\n",
            "Requirement already satisfied: py>=1.4.17 in /usr/local/lib/python3.6/dist-packages (from tox->farm-haystack==0.4.0) (1.9.0)\n",
            "Requirement already satisfied: six>=1.14.0 in /usr/local/lib/python3.6/dist-packages (from tox->farm-haystack==0.4.0) (1.15.0)\n",
            "Requirement already satisfied: pluggy>=0.12.0 in /usr/local/lib/python3.6/dist-packages (from tox->farm-haystack==0.4.0) (0.13.1)\n",
            "Requirement already satisfied: virtualenv!=20.0.0,!=20.0.1,!=20.0.2,!=20.0.3,!=20.0.4,!=20.0.5,!=20.0.6,!=20.0.7,>=16.0.0 in /usr/local/lib/python3.6/dist-packages (from tox->farm-haystack==0.4.0) (20.0.35)\n",
            "Requirement already satisfied: importlib-metadata<3,>=0.12; python_version < \"3.8\" in /usr/local/lib/python3.6/dist-packages (from tox->farm-haystack==0.4.0) (2.0.0)\n",
            "Requirement already satisfied: filelock>=3.0.0 in /usr/local/lib/python3.6/dist-packages (from tox->farm-haystack==0.4.0) (3.0.12)\n",
            "Requirement already satisfied: toml>=0.9.4 in /usr/local/lib/python3.6/dist-packages (from tox->farm-haystack==0.4.0) (0.10.1)\n",
            "Requirement already satisfied: lxml>=2.3.2 in /usr/local/lib/python3.6/dist-packages (from python-docx->farm-haystack==0.4.0) (4.2.6)\n",
            "Requirement already satisfied: SQLAlchemy>=1.0 in /usr/local/lib/python3.6/dist-packages (from sqlalchemy_utils->farm-haystack==0.4.0) (1.3.19)\n",
            "Requirement already satisfied: requests in /usr/local/lib/python3.6/dist-packages (from tika->farm-haystack==0.4.0) (2.23.0)\n",
            "Requirement already satisfied: psutil in /usr/local/lib/python3.6/dist-packages (from farm@ git+https://github.com/deepset-ai/FARM.git@master->farm-haystack==0.4.0) (5.4.8)\n",
            "Requirement already satisfied: wheel in /usr/local/lib/python3.6/dist-packages (from farm@ git+https://github.com/deepset-ai/FARM.git@master->farm-haystack==0.4.0) (0.35.1)\n",
            "Requirement already satisfied: boto3 in /usr/local/lib/python3.6/dist-packages (from farm@ git+https://github.com/deepset-ai/FARM.git@master->farm-haystack==0.4.0) (1.16.2)\n",
            "Requirement already satisfied: dotmap==1.3.0 in /usr/local/lib/python3.6/dist-packages (from farm@ git+https://github.com/deepset-ai/FARM.git@master->farm-haystack==0.4.0) (1.3.0)\n",
            "Requirement already satisfied: tqdm in /usr/local/lib/python3.6/dist-packages (from farm@ git+https://github.com/deepset-ai/FARM.git@master->farm-haystack==0.4.0) (4.41.1)\n",
            "Requirement already satisfied: transformers==3.3.1 in /usr/local/lib/python3.6/dist-packages (from farm@ git+https://github.com/deepset-ai/FARM.git@master->farm-haystack==0.4.0) (3.3.1)\n",
            "Requirement already satisfied: dill in /usr/local/lib/python3.6/dist-packages (from farm@ git+https://github.com/deepset-ai/FARM.git@master->farm-haystack==0.4.0) (0.3.2)\n",
            "Requirement already satisfied: seqeval in /usr/local/lib/python3.6/dist-packages (from farm@ git+https://github.com/deepset-ai/FARM.git@master->farm-haystack==0.4.0) (1.2.1)\n",
            "Requirement already satisfied: flask-restplus in /usr/local/lib/python3.6/dist-packages (from farm@ git+https://github.com/deepset-ai/FARM.git@master->farm-haystack==0.4.0) (0.13.0)\n",
            "Requirement already satisfied: Werkzeug==0.16.1 in /usr/local/lib/python3.6/dist-packages (from farm@ git+https://github.com/deepset-ai/FARM.git@master->farm-haystack==0.4.0) (0.16.1)\n",
            "Requirement already satisfied: mlflow==1.0.0 in /usr/local/lib/python3.6/dist-packages (from farm@ git+https://github.com/deepset-ai/FARM.git@master->farm-haystack==0.4.0) (1.0.0)\n",
            "Requirement already satisfied: flask-cors in /usr/local/lib/python3.6/dist-packages (from farm@ git+https://github.com/deepset-ai/FARM.git@master->farm-haystack==0.4.0) (3.0.9)\n",
            "Requirement already satisfied: torch<1.7,>1.5 in /usr/local/lib/python3.6/dist-packages (from farm@ git+https://github.com/deepset-ai/FARM.git@master->farm-haystack==0.4.0) (1.6.0+cu101)\n",
            "Requirement already satisfied: flask in /usr/local/lib/python3.6/dist-packages (from farm@ git+https://github.com/deepset-ai/FARM.git@master->farm-haystack==0.4.0) (1.1.2)\n",
            "Requirement already satisfied: scipy>=1.3.2 in /usr/local/lib/python3.6/dist-packages (from farm@ git+https://github.com/deepset-ai/FARM.git@master->farm-haystack==0.4.0) (1.4.1)\n",
            "Requirement already satisfied: dataclasses>=0.6; python_version < \"3.7\" in /usr/local/lib/python3.6/dist-packages (from pydantic<2.0.0,>=1.0.0->fastapi->farm-haystack==0.4.0) (0.7)\n",
            "Requirement already satisfied: joblib>=0.11 in /usr/local/lib/python3.6/dist-packages (from scikit-learn->sklearn->farm-haystack==0.4.0) (0.16.0)\n",
            "Requirement already satisfied: pyparsing>=2.0.2 in /usr/local/lib/python3.6/dist-packages (from packaging>=14->tox->farm-haystack==0.4.0) (2.4.7)\n",
            "Requirement already satisfied: distlib<1,>=0.3.1 in /usr/local/lib/python3.6/dist-packages (from virtualenv!=20.0.0,!=20.0.1,!=20.0.2,!=20.0.3,!=20.0.4,!=20.0.5,!=20.0.6,!=20.0.7,>=16.0.0->tox->farm-haystack==0.4.0) (0.3.1)\n",
            "Requirement already satisfied: appdirs<2,>=1.4.3 in /usr/local/lib/python3.6/dist-packages (from virtualenv!=20.0.0,!=20.0.1,!=20.0.2,!=20.0.3,!=20.0.4,!=20.0.5,!=20.0.6,!=20.0.7,>=16.0.0->tox->farm-haystack==0.4.0) (1.4.4)\n",
            "Requirement already satisfied: importlib-resources>=1.0; python_version < \"3.7\" in /usr/local/lib/python3.6/dist-packages (from virtualenv!=20.0.0,!=20.0.1,!=20.0.2,!=20.0.3,!=20.0.4,!=20.0.5,!=20.0.6,!=20.0.7,>=16.0.0->tox->farm-haystack==0.4.0) (3.0.0)\n",
            "Requirement already satisfied: zipp>=0.5 in /usr/local/lib/python3.6/dist-packages (from importlib-metadata<3,>=0.12; python_version < \"3.8\"->tox->farm-haystack==0.4.0) (3.2.0)\n",
            "Requirement already satisfied: idna<3,>=2.5 in /usr/local/lib/python3.6/dist-packages (from requests->tika->farm-haystack==0.4.0) (2.10)\n",
            "Requirement already satisfied: chardet<4,>=3.0.2 in /usr/local/lib/python3.6/dist-packages (from requests->tika->farm-haystack==0.4.0) (3.0.4)\n",
            "Requirement already satisfied: botocore<1.20.0,>=1.19.2 in /usr/local/lib/python3.6/dist-packages (from boto3->farm@ git+https://github.com/deepset-ai/FARM.git@master->farm-haystack==0.4.0) (1.19.2)\n",
            "Requirement already satisfied: jmespath<1.0.0,>=0.7.1 in /usr/local/lib/python3.6/dist-packages (from boto3->farm@ git+https://github.com/deepset-ai/FARM.git@master->farm-haystack==0.4.0) (0.10.0)\n",
            "Requirement already satisfied: s3transfer<0.4.0,>=0.3.0 in /usr/local/lib/python3.6/dist-packages (from boto3->farm@ git+https://github.com/deepset-ai/FARM.git@master->farm-haystack==0.4.0) (0.3.3)\n",
            "Requirement already satisfied: tokenizers==0.8.1.rc2 in /usr/local/lib/python3.6/dist-packages (from transformers==3.3.1->farm@ git+https://github.com/deepset-ai/FARM.git@master->farm-haystack==0.4.0) (0.8.1rc2)\n",
            "Requirement already satisfied: regex!=2019.12.17 in /usr/local/lib/python3.6/dist-packages (from transformers==3.3.1->farm@ git+https://github.com/deepset-ai/FARM.git@master->farm-haystack==0.4.0) (2019.12.20)\n",
            "Requirement already satisfied: sentencepiece!=0.1.92 in /usr/local/lib/python3.6/dist-packages (from transformers==3.3.1->farm@ git+https://github.com/deepset-ai/FARM.git@master->farm-haystack==0.4.0) (0.1.91)\n",
            "Requirement already satisfied: sacremoses in /usr/local/lib/python3.6/dist-packages (from transformers==3.3.1->farm@ git+https://github.com/deepset-ai/FARM.git@master->farm-haystack==0.4.0) (0.0.43)\n",
            "Requirement already satisfied: aniso8601>=0.82 in /usr/local/lib/python3.6/dist-packages (from flask-restplus->farm@ git+https://github.com/deepset-ai/FARM.git@master->farm-haystack==0.4.0) (8.0.0)\n",
            "Requirement already satisfied: jsonschema in /usr/local/lib/python3.6/dist-packages (from flask-restplus->farm@ git+https://github.com/deepset-ai/FARM.git@master->farm-haystack==0.4.0) (2.6.0)\n",
            "Requirement already satisfied: docker>=3.6.0 in /usr/local/lib/python3.6/dist-packages (from mlflow==1.0.0->farm@ git+https://github.com/deepset-ai/FARM.git@master->farm-haystack==0.4.0) (4.3.1)\n",
            "Requirement already satisfied: databricks-cli>=0.8.0 in /usr/local/lib/python3.6/dist-packages (from mlflow==1.0.0->farm@ git+https://github.com/deepset-ai/FARM.git@master->farm-haystack==0.4.0) (0.13.0)\n",
            "Requirement already satisfied: pyyaml in /usr/local/lib/python3.6/dist-packages (from mlflow==1.0.0->farm@ git+https://github.com/deepset-ai/FARM.git@master->farm-haystack==0.4.0) (3.13)\n",
            "Requirement already satisfied: querystring-parser in /usr/local/lib/python3.6/dist-packages (from mlflow==1.0.0->farm@ git+https://github.com/deepset-ai/FARM.git@master->farm-haystack==0.4.0) (1.2.4)\n",
            "Requirement already satisfied: simplejson in /usr/local/lib/python3.6/dist-packages (from mlflow==1.0.0->farm@ git+https://github.com/deepset-ai/FARM.git@master->farm-haystack==0.4.0) (3.17.2)\n",
            "Requirement already satisfied: gitpython>=2.1.0 in /usr/local/lib/python3.6/dist-packages (from mlflow==1.0.0->farm@ git+https://github.com/deepset-ai/FARM.git@master->farm-haystack==0.4.0) (3.1.9)\n",
            "Requirement already satisfied: alembic in /usr/local/lib/python3.6/dist-packages (from mlflow==1.0.0->farm@ git+https://github.com/deepset-ai/FARM.git@master->farm-haystack==0.4.0) (1.4.3)\n",
            "Requirement already satisfied: entrypoints in /usr/local/lib/python3.6/dist-packages (from mlflow==1.0.0->farm@ git+https://github.com/deepset-ai/FARM.git@master->farm-haystack==0.4.0) (0.3)\n",
            "Requirement already satisfied: cloudpickle in /usr/local/lib/python3.6/dist-packages (from mlflow==1.0.0->farm@ git+https://github.com/deepset-ai/FARM.git@master->farm-haystack==0.4.0) (1.3.0)\n",
            "Requirement already satisfied: protobuf>=3.6.0 in /usr/local/lib/python3.6/dist-packages (from mlflow==1.0.0->farm@ git+https://github.com/deepset-ai/FARM.git@master->farm-haystack==0.4.0) (3.12.4)\n",
            "Requirement already satisfied: sqlparse in /usr/local/lib/python3.6/dist-packages (from mlflow==1.0.0->farm@ git+https://github.com/deepset-ai/FARM.git@master->farm-haystack==0.4.0) (0.3.1)\n",
            "Requirement already satisfied: future in /usr/local/lib/python3.6/dist-packages (from torch<1.7,>1.5->farm@ git+https://github.com/deepset-ai/FARM.git@master->farm-haystack==0.4.0) (0.16.0)\n",
            "Requirement already satisfied: itsdangerous>=0.24 in /usr/local/lib/python3.6/dist-packages (from flask->farm@ git+https://github.com/deepset-ai/FARM.git@master->farm-haystack==0.4.0) (1.1.0)\n",
            "Requirement already satisfied: Jinja2>=2.10.1 in /usr/local/lib/python3.6/dist-packages (from flask->farm@ git+https://github.com/deepset-ai/FARM.git@master->farm-haystack==0.4.0) (2.11.2)\n",
            "Requirement already satisfied: websocket-client>=0.32.0 in /usr/local/lib/python3.6/dist-packages (from docker>=3.6.0->mlflow==1.0.0->farm@ git+https://github.com/deepset-ai/FARM.git@master->farm-haystack==0.4.0) (0.57.0)\n",
            "Requirement already satisfied: tabulate>=0.7.7 in /usr/local/lib/python3.6/dist-packages (from databricks-cli>=0.8.0->mlflow==1.0.0->farm@ git+https://github.com/deepset-ai/FARM.git@master->farm-haystack==0.4.0) (0.8.7)\n",
            "Requirement already satisfied: gitdb<5,>=4.0.1 in /usr/local/lib/python3.6/dist-packages (from gitpython>=2.1.0->mlflow==1.0.0->farm@ git+https://github.com/deepset-ai/FARM.git@master->farm-haystack==0.4.0) (4.0.5)\n",
            "Requirement already satisfied: python-editor>=0.3 in /usr/local/lib/python3.6/dist-packages (from alembic->mlflow==1.0.0->farm@ git+https://github.com/deepset-ai/FARM.git@master->farm-haystack==0.4.0) (1.0.4)\n",
            "Requirement already satisfied: Mako in /usr/local/lib/python3.6/dist-packages (from alembic->mlflow==1.0.0->farm@ git+https://github.com/deepset-ai/FARM.git@master->farm-haystack==0.4.0) (1.1.3)\n",
            "Requirement already satisfied: MarkupSafe>=0.23 in /usr/local/lib/python3.6/dist-packages (from Jinja2>=2.10.1->flask->farm@ git+https://github.com/deepset-ai/FARM.git@master->farm-haystack==0.4.0) (1.1.1)\n",
            "Requirement already satisfied: smmap<4,>=3.0.1 in /usr/local/lib/python3.6/dist-packages (from gitdb<5,>=4.0.1->gitpython>=2.1.0->mlflow==1.0.0->farm@ git+https://github.com/deepset-ai/FARM.git@master->farm-haystack==0.4.0) (3.0.4)\n",
            "Building wheels for collected packages: farm-haystack\n",
            "  Building wheel for farm-haystack (setup.py) ... \u001b[?25l\u001b[?25hdone\n",
            "  Created wheel for farm-haystack: filename=farm_haystack-0.4.0-cp36-none-any.whl size=91365 sha256=1ea2b4592f83a2978cef7f83e5a5cf989387b2abd96cd6a264eaf16121af7d66\n",
            "  Stored in directory: /tmp/pip-ephem-wheel-cache-pqjt7vxs/wheels/ed/03/62/5e4631caace5a1832a21af6a63b621e52159737b4c0cab9ecc\n",
            "Successfully built farm-haystack\n",
            "Collecting urllib3==1.25.4\n",
            "\u001b[?25l  Downloading https://files.pythonhosted.org/packages/91/0d/7777358f672a14b7ae0dfcd29f949f409f913e0578190d6bfa68eb55864b/urllib3-1.25.4-py2.py3-none-any.whl (125kB)\n",
            "\u001b[K     |████████████████████████████████| 133kB 8.6MB/s \n",
            "\u001b[31mERROR: kaggle 1.5.8 has requirement urllib3<1.25,>=1.21.1, but you'll have urllib3 1.25.4 which is incompatible.\u001b[0m\n",
            "\u001b[31mERROR: datascience 0.10.6 has requirement folium==0.2.1, but you'll have folium 0.8.3 which is incompatible.\u001b[0m\n",
            "\u001b[?25hInstalling collected packages: urllib3\n",
            "  Found existing installation: urllib3 1.24.3\n",
            "    Uninstalling urllib3-1.24.3:\n",
            "      Successfully uninstalled urllib3-1.24.3\n",
            "Successfully installed urllib3-1.25.4\n"
          ],
          "name": "stdout"
        }
      ]
    },
    {
      "cell_type": "code",
      "metadata": {
      },
      "source": [
        "from haystack import Document\n",
        "from haystack.document_store.faiss import FAISSDocumentStore\n",
        "from haystack.generator.transformers import RAGenerator\n",
        "from haystack.retriever.dense import DensePassageRetriever"
      ],
      "execution_count": 5,
      "outputs": [
        {
          "output_type": "stream",
          "text": [
            "10/22/2020 10:55:08 - INFO - faiss -   Loading faiss with AVX2 support.\n",
            "10/22/2020 10:55:08 - INFO - faiss -   Loading faiss.\n"
          ],
          "name": "stderr"
        }
      ]
    },
    {
      "cell_type": "code",
      "metadata": {
      },
      "source": [
        "documents = [\n",
        "    Document(\n",
        "        text=\"\"\"Berlin is Germany capital\"\"\"\n",
        "    ),\n",
        "    Document(\n",
        "        text=\"\"\"Berlin is the capital and largest city of Germany by both area and population.\"\"\",\n",
        "    )\n",
        "]"
      ],
      "execution_count": 6,
      "outputs": []
    },
    {
      "cell_type": "code",
      "metadata": {
      },
      "source": [
        "document_store = FAISSDocumentStore()\n",
        "retriever = DensePassageRetriever(document_store=document_store,\n",
        "                                  query_embedding_model=\"facebook/dpr-question_encoder-single-nq-base\",\n",
        "                                  passage_embedding_model=\"facebook/dpr-ctx_encoder-single-nq-base\",\n",
        "                                  use_gpu=False, embed_title=True,\n",
        "                                  remove_sep_tok_from_untitled_passages=True)\n",
        "generator = RAGenerator(retriever=retriever)"
      ],
      "execution_count": 7,
      "outputs": [
        {
          "output_type": "stream",
          "text": [
            "10/22/2020 10:55:13 - INFO - filelock -   Lock 139691029815192 acquired on /root/.cache/torch/transformers/26bc1ad6c0ac742e9b52263248f6d0f00068293b33709fae12320c0e35ccfbbb.542ce4285a40d23a559526243235df47c5f75c197f04f37d1a0c124c32c9a084.lock\n"
          ],
          "name": "stderr"
        },
        {
          "output_type": "stream",
          "text": [
            "10/22/2020 10:55:14 - INFO - filelock -   Lock 139691029815192 released on /root/.cache/torch/transformers/26bc1ad6c0ac742e9b52263248f6d0f00068293b33709fae12320c0e35ccfbbb.542ce4285a40d23a559526243235df47c5f75c197f04f37d1a0c124c32c9a084.lock\n"
          ],
          "name": "stderr"
        },
        {
          "output_type": "stream",
          "text": [
            "\n"
          ],
          "name": "stdout"
        },
        {
          "output_type": "stream",
          "text": [
            "10/22/2020 10:55:14 - INFO - filelock -   Lock 139691029957768 acquired on /root/.cache/torch/transformers/4b05580c0bfb2b640a50c1c6ae3fe9bca923871a29e0182927c086905d6c4c47.7652e92693c670fb8dfd7ec1f9191e3f82673742ff6a86cde9133a4ea6002ced.lock\n"
          ],
          "name": "stderr"
        },
        {
          "output_type": "stream",
          "text": [
            "10/22/2020 10:55:15 - INFO - filelock -   Lock 139691029957768 released on /root/.cache/torch/transformers/4b05580c0bfb2b640a50c1c6ae3fe9bca923871a29e0182927c086905d6c4c47.7652e92693c670fb8dfd7ec1f9191e3f82673742ff6a86cde9133a4ea6002ced.lock\n",
            "10/22/2020 10:55:15 - INFO - filelock -   Lock 139691029579424 acquired on /root/.cache/torch/transformers/8fdd0d2838c23f921379f2b0322aecf406cbdaa97ffecc544e3a1d49a7c302bd.6f90756c59007364d7842118056ad653f39f4d340fbe20bcc04037d2a45cb0f7.lock\n"
          ],
          "name": "stderr"
        },
        {
          "output_type": "stream",
          "text": [
            "\n"
          ],
          "name": "stdout"
        },
        {
          "output_type": "stream",
          "text": [
            "10/22/2020 10:55:40 - INFO - filelock -   Lock 139691029579424 released on /root/.cache/torch/transformers/8fdd0d2838c23f921379f2b0322aecf406cbdaa97ffecc544e3a1d49a7c302bd.6f90756c59007364d7842118056ad653f39f4d340fbe20bcc04037d2a45cb0f7.lock\n"
          ],
          "name": "stderr"
        },
        {
          "output_type": "stream",
          "text": [
            "\n"
          ],
          "name": "stdout"
        },
        {
          "output_type": "stream",
          "text": [
            "10/22/2020 10:55:46 - INFO - filelock -   Lock 139691015069312 acquired on /root/.cache/torch/transformers/f6388f32b32eac5dad8f0f9c7009ce69e967c1b65ebae62f805fced8022ea991.9500f04f28d7c0ca5f9c265db7ba5030897a2d752451412827f7dec185b1ee36.lock\n"
          ],
          "name": "stderr"
        },
        {
          "output_type": "stream",
          "text": [
            "10/22/2020 10:55:47 - INFO - filelock -   Lock 139691015069312 released on /root/.cache/torch/transformers/f6388f32b32eac5dad8f0f9c7009ce69e967c1b65ebae62f805fced8022ea991.9500f04f28d7c0ca5f9c265db7ba5030897a2d752451412827f7dec185b1ee36.lock\n",
            "10/22/2020 10:55:47 - INFO - filelock -   Lock 139691009110648 acquired on /root/.cache/torch/transformers/d1c705617c02da7a616f4b5a8cb445a7f78e84bc4f9e26378c89901d97e16d78.232fed629becb590e5b2ac6c6124f9d1561ef7a1d17ad0394232dd46a0835002.lock\n"
          ],
          "name": "stderr"
        },
        {
          "output_type": "stream",
          "text": [
            "\n"
          ],
          "name": "stdout"
        },
        {
          "output_type": "stream",
          "text": [
            "10/22/2020 10:56:16 - INFO - filelock -   Lock 139691009110648 released on /root/.cache/torch/transformers/d1c705617c02da7a616f4b5a8cb445a7f78e84bc4f9e26378c89901d97e16d78.232fed629becb590e5b2ac6c6124f9d1561ef7a1d17ad0394232dd46a0835002.lock\n"
          ],
          "name": "stderr"
        },
        {
          "output_type": "stream",
          "text": [
            "\n"
          ],
          "name": "stdout"
        },
        {
          "output_type": "stream",
          "text": [
            "10/22/2020 10:56:21 - INFO - filelock -   Lock 139691008937712 acquired on /root/.cache/torch/transformers/a28e2a0aab58359dfa98a3580de2085db0c5d849d7462b79560f301c45ea713c.df7d627eb5f8ef74e6d4cdc2bc0b1fc8b6e21cdf2f6cced020f3b83758821616.lock\n"
          ],
          "name": "stderr"
        },
        {
          "output_type": "stream",
          "text": [
            "10/22/2020 10:56:22 - INFO - filelock -   Lock 139691008937712 released on /root/.cache/torch/transformers/a28e2a0aab58359dfa98a3580de2085db0c5d849d7462b79560f301c45ea713c.df7d627eb5f8ef74e6d4cdc2bc0b1fc8b6e21cdf2f6cced020f3b83758821616.lock\n"
          ],
          "name": "stderr"
        },
        {
          "output_type": "stream",
          "text": [
            "\n"
          ],
          "name": "stdout"
        },
        {
          "output_type": "stream",
          "text": [
            "10/22/2020 10:56:22 - INFO - filelock -   Lock 139691008937824 acquired on /root/.cache/torch/transformers/f9e9fc6234c857f9c47d136755859425a8940f44ec992244b54a3ba02a084921.542ce4285a40d23a559526243235df47c5f75c197f04f37d1a0c124c32c9a084.lock\n"
          ],
          "name": "stderr"
        },
        {
          "output_type": "stream",
          "text": [
            "10/22/2020 10:56:23 - INFO - filelock -   Lock 139691008937824 released on /root/.cache/torch/transformers/f9e9fc6234c857f9c47d136755859425a8940f44ec992244b54a3ba02a084921.542ce4285a40d23a559526243235df47c5f75c197f04f37d1a0c124c32c9a084.lock\n"
          ],
          "name": "stderr"
        },
        {
          "output_type": "stream",
          "text": [
            "\n"
          ],
          "name": "stdout"
        },
        {
          "output_type": "stream",
          "text": [
            "10/22/2020 10:56:24 - INFO - filelock -   Lock 139691008937768 acquired on /root/.cache/torch/transformers/9ed7f78d7169a925ea96e3ff950c6d144edd3a53206d0afd072cd8aab8a1f9c3.275045728fbf41c11d3dae08b8742c054377e18d92cc7b72b6351152a99b64e4.lock\n"
          ],
          "name": "stderr"
        },
        {
          "output_type": "stream",
          "text": [
            "10/22/2020 10:56:24 - INFO - filelock -   Lock 139691008937768 released on /root/.cache/torch/transformers/9ed7f78d7169a925ea96e3ff950c6d144edd3a53206d0afd072cd8aab8a1f9c3.275045728fbf41c11d3dae08b8742c054377e18d92cc7b72b6351152a99b64e4.lock\n"
          ],
          "name": "stderr"
        },
        {
          "output_type": "stream",
          "text": [
            "\n"
          ],
          "name": "stdout"
        },
        {
          "output_type": "stream",
          "text": [
            "10/22/2020 10:56:24 - INFO - filelock -   Lock 139691008937768 acquired on /root/.cache/torch/transformers/2e9325f42d80725dbb9e08da7275dd610ef1f15fabad8cda70b5be656c3d5ec3.11f57497ee659e26f830788489816dbcb678d91ae48c06c50c9dc0e4438ec05b.lock\n"
          ],
          "name": "stderr"
        },
        {
          "output_type": "stream",
          "text": [
            "10/22/2020 10:56:25 - INFO - filelock -   Lock 139691008937768 released on /root/.cache/torch/transformers/2e9325f42d80725dbb9e08da7275dd610ef1f15fabad8cda70b5be656c3d5ec3.11f57497ee659e26f830788489816dbcb678d91ae48c06c50c9dc0e4438ec05b.lock\n"
          ],
          "name": "stderr"
        },
        {
          "output_type": "stream",
          "text": [
            "\n"
          ],
          "name": "stdout"
        },
        {
          "output_type": "stream",
          "text": [
            "10/22/2020 10:56:26 - INFO - filelock -   Lock 139691008937320 acquired on /root/.cache/torch/transformers/a503e807710e7ae4767c128125a8f7408b3c3f2463ba4aa7be8b9ca78538fcf7.6a4061e8fc00057d21d80413635a86fdcf55b6e7594ad9e25257d2f99a02f4be.lock\n"
          ],
          "name": "stderr"
        },
        {
          "output_type": "stream",
          "text": [
            "10/22/2020 10:56:27 - INFO - filelock -   Lock 139691008937320 released on /root/.cache/torch/transformers/a503e807710e7ae4767c128125a8f7408b3c3f2463ba4aa7be8b9ca78538fcf7.6a4061e8fc00057d21d80413635a86fdcf55b6e7594ad9e25257d2f99a02f4be.lock\n"
          ],
          "name": "stderr"
        },
        {
          "output_type": "stream",
          "text": [
            "\n"
          ],
          "name": "stdout"
        },
        {
          "output_type": "stream",
          "text": [
            "10/22/2020 10:56:27 - INFO - filelock -   Lock 139691008937320 acquired on /root/.cache/torch/transformers/42678d4e6df6d04d0ecc6974e73cd29f80b7e438f388c7e65f5e9fe12335cee7.70bec105b4158ed9a1747fea67a43f5dee97855c64d62b6ec3742f4cfdb5feda.lock\n"
          ],
          "name": "stderr"
        },
        {
          "output_type": "stream",
          "text": [
            "10/22/2020 10:56:28 - INFO - filelock -   Lock 139691008937320 released on /root/.cache/torch/transformers/42678d4e6df6d04d0ecc6974e73cd29f80b7e438f388c7e65f5e9fe12335cee7.70bec105b4158ed9a1747fea67a43f5dee97855c64d62b6ec3742f4cfdb5feda.lock\n"
          ],
          "name": "stderr"
        },
        {
          "output_type": "stream",
          "text": [
            "\n"
          ],
          "name": "stdout"
        },
        {
          "output_type": "stream",
          "text": [
            "10/22/2020 10:56:29 - INFO - filelock -   Lock 139691009024744 acquired on /root/.cache/torch/transformers/ecaef97670694deb80161d2734505878a7b38565c89fd3e1c6441899f4e6a51e.6e217123a3ada61145de1f20b1443a1ec9aac93492a4bd1ce6a695935f0fd97a.lock\n"
          ],
          "name": "stderr"
        },
        {
          "output_type": "stream",
          "text": [
            "10/22/2020 10:56:29 - INFO - filelock -   Lock 139691009024744 released on /root/.cache/torch/transformers/ecaef97670694deb80161d2734505878a7b38565c89fd3e1c6441899f4e6a51e.6e217123a3ada61145de1f20b1443a1ec9aac93492a4bd1ce6a695935f0fd97a.lock\n"
          ],
          "name": "stderr"
        },
        {
          "output_type": "stream",
          "text": [
            "\n"
          ],
          "name": "stdout"
        },
        {
          "output_type": "stream",
          "text": [
            "10/22/2020 10:56:29 - INFO - filelock -   Lock 139691029814408 acquired on /root/.cache/torch/transformers/189b603398b8d6afb7d5377372dc4cf0bb48742f67be7bedbe775ee86b356f52.d596a549211eb890d3bb341f3a03307b199bc2d5ed81b3451618cbcb04d1f1bc.lock\n"
          ],
          "name": "stderr"
        },
        {
          "output_type": "stream",
          "text": [
            "10/22/2020 10:56:30 - INFO - filelock -   Lock 139691029814408 released on /root/.cache/torch/transformers/189b603398b8d6afb7d5377372dc4cf0bb48742f67be7bedbe775ee86b356f52.d596a549211eb890d3bb341f3a03307b199bc2d5ed81b3451618cbcb04d1f1bc.lock\n"
          ],
          "name": "stderr"
        },
        {
          "output_type": "stream",
          "text": [
            "\n"
          ],
          "name": "stdout"
        },
        {
          "output_type": "stream",
          "text": [
            "10/22/2020 10:56:31 - INFO - filelock -   Lock 139691029578024 acquired on /root/.cache/torch/transformers/06fe449ffe41cbe16aeb1f5976989313464a3c44a605e9a8b91bf6440dfa6026.696574d8c17eafbac08f43f01e951252057f8feb133b64a33b76d4c47d65367a.lock\n"
          ],
          "name": "stderr"
        },
        {
          "output_type": "stream",
          "text": [
            "10/22/2020 10:57:42 - INFO - filelock -   Lock 139691029578024 released on /root/.cache/torch/transformers/06fe449ffe41cbe16aeb1f5976989313464a3c44a605e9a8b91bf6440dfa6026.696574d8c17eafbac08f43f01e951252057f8feb133b64a33b76d4c47d65367a.lock\n"
          ],
          "name": "stderr"
        },
        {
          "output_type": "stream",
          "text": [
            "\n"
          ],
          "name": "stdout"
        }
      ]
    },
    {
      "cell_type": "code",
      "metadata": {
      },
      "source": [
        "document_store.delete_all_documents()\n",
        "document_store.write_documents(documents)\n",
        "document_store.update_embeddings(retriever=retriever)"
      ],
      "execution_count": 8,
      "outputs": [
        {
          "output_type": "stream",
          "text": [
            "10/22/2020 10:57:59 - INFO - haystack.document_store.faiss -   Updating embeddings for 2 docs...\n",
            "/usr/local/lib/python3.6/dist-packages/transformers/tokenization_utils_base.py:1773: FutureWarning: The `pad_to_max_length` argument is deprecated and will be removed in a future version, use `padding=True` or `padding='longest'` to pad to the longest sequence in the batch, or use `padding='max_length'` to pad to a max length. In this case, you can give a specific length with `max_length` (e.g. `max_length=45`) or leave max_length to None to pad to the maximal input size of the model (e.g. 512 for Bert).\n",
            "  FutureWarning,\n",
            "/usr/local/lib/python3.6/dist-packages/haystack/retriever/dense.py:199: UserWarning: This overload of nonzero is deprecated:\n",
            "\tnonzero(Tensor input, *, Tensor out)\n",
            "Consider using one of the following signatures instead:\n",
            "\tnonzero(Tensor input, *, bool as_tuple) (Triggered internally at  /pytorch/torch/csrc/utils/python_arg_parser.cpp:766.)\n",
            "  no_title_indices = torch.nonzero(1 - titles_mask).squeeze(-1)\n",
            "10/22/2020 10:58:01 - INFO - haystack.document_store.faiss -   Indexing embeddings and updating vectors_ids...\n",
            "100%|██████████| 1/1 [00:00<00:00, 164.31it/s]\n"
          ],
          "name": "stderr"
        }
      ]
    },
    {
      "cell_type": "code",
      "metadata": {
      },
      "source": [
        "question = \"What is capital of the Germany?\"\n",
        "retriever_results = retriever.retrieve(query=question, top_k=2)"
      ],
      "execution_count": 9,
      "outputs": [
        {
          "output_type": "stream",
          "text": [
            "/usr/local/lib/python3.6/dist-packages/transformers/tokenization_utils_base.py:1773: FutureWarning: The `pad_to_max_length` argument is deprecated and will be removed in a future version, use `padding=True` or `padding='longest'` to pad to the longest sequence in the batch, or use `padding='max_length'` to pad to a max length. In this case, you can give a specific length with `max_length` (e.g. `max_length=45`) or leave max_length to None to pad to the maximal input size of the model (e.g. 512 for Bert).\n",
            "  FutureWarning,\n"
          ],
          "name": "stderr"
        }
      ]
    },
    {
      "cell_type": "code",
      "metadata": {
      },
      "source": [
        "predicted_result = generator.predict(question=question, documents=retriever_results, top_k=1)\n",
        "\n",
        "print(\"By Haystack=\", predicted_result[\"answers\"][0][\"answer\"])"
      ],
      "execution_count": 10,
      "outputs": [
        {
          "output_type": "stream",
          "text": [
            "/usr/local/lib/python3.6/dist-packages/transformers/tokenization_utils_base.py:1773: FutureWarning: The `pad_to_max_length` argument is deprecated and will be removed in a future version, use `padding=True` or `padding='longest'` to pad to the longest sequence in the batch, or use `padding='max_length'` to pad to a max length. In this case, you can give a specific length with `max_length` (e.g. `max_length=45`) or leave max_length to None to pad to the maximal input size of the model (e.g. 512 for Bert).\n",
            "  FutureWarning,\n"
          ],
          "name": "stderr"
        },
        {
          "output_type": "stream",
          "text": [
            "By Haystack=  berlin\n"
          ],
          "name": "stdout"
        }
      ]
    }
  ]
}